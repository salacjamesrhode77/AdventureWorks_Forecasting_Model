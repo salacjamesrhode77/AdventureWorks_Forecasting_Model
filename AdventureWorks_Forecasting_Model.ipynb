{
 "cells": [
  {
   "cell_type": "code",
   "execution_count": 1,
   "id": "23a64f4f-358f-4f6a-8be4-9dd8d430f961",
   "metadata": {},
   "outputs": [],
   "source": [
    "import pandas as pd\n",
    "import numpy as np\n",
    "import matplotlib.pyplot as plt\n",
    "from scipy.optimize import minimize\n",
    "from statsmodels.tsa.holtwinters import Holt, SimpleExpSmoothing\n",
    "from sklearn.linear_model import LinearRegression\n",
    "from sklearn.preprocessing import MinMaxScaler\n",
    "\n",
    "# Supress Warnings\n",
    "import warnings\n",
    "warnings.filterwarnings('ignore')"
   ]
  },
  {
   "cell_type": "markdown",
   "id": "ee878f5b-9864-494e-a04b-dc74b51dc630",
   "metadata": {},
   "source": [
    "## Data Loading and Preprocessing"
   ]
  },
  {
   "cell_type": "code",
   "execution_count": 2,
   "id": "e190b018-e38c-4bb6-bc47-f33533b09ac3",
   "metadata": {},
   "outputs": [],
   "source": [
    "# Load and combine csv files\n",
    "file_paths = [\n",
    "    \"https://github.com/salacjamesrhode77/AdventureWorks_Dataset/raw/refs/heads/main/SalesTransactions/AdventureWorks_Sales_2021.csv\",\n",
    "    \"https://github.com/salacjamesrhode77/AdventureWorks_Dataset/raw/refs/heads/main/SalesTransactions/AdventureWorks_Sales_2022.csv\",\n",
    "    \"https://github.com/salacjamesrhode77/AdventureWorks_Dataset/raw/refs/heads/main/SalesTransactions/AdventureWorks_Sales_2023.csv\"\n",
    "]\n",
    "\n",
    "# Combine all csv files into one dataframe\n",
    "transactions_df = pd.concat((pd.read_csv(url) for url in file_paths), ignore_index=True)"
   ]
  },
  {
   "cell_type": "code",
   "execution_count": 3,
   "id": "d4edefbd-f637-439c-b194-96e84f34442d",
   "metadata": {},
   "outputs": [
    {
     "data": {
      "text/html": [
       "<div>\n",
       "<style scoped>\n",
       "    .dataframe tbody tr th:only-of-type {\n",
       "        vertical-align: middle;\n",
       "    }\n",
       "\n",
       "    .dataframe tbody tr th {\n",
       "        vertical-align: top;\n",
       "    }\n",
       "\n",
       "    .dataframe thead th {\n",
       "        text-align: right;\n",
       "    }\n",
       "</style>\n",
       "<table border=\"1\" class=\"dataframe\">\n",
       "  <thead>\n",
       "    <tr style=\"text-align: right;\">\n",
       "      <th></th>\n",
       "      <th>OrderDate</th>\n",
       "      <th>OrderQuantity</th>\n",
       "      <th>Sales</th>\n",
       "      <th>CustomerKey</th>\n",
       "    </tr>\n",
       "  </thead>\n",
       "  <tbody>\n",
       "    <tr>\n",
       "      <th>0</th>\n",
       "      <td>01-01-21</td>\n",
       "      <td>1</td>\n",
       "      <td>699.0982</td>\n",
       "      <td>14657</td>\n",
       "    </tr>\n",
       "    <tr>\n",
       "      <th>1</th>\n",
       "      <td>01-01-21</td>\n",
       "      <td>1</td>\n",
       "      <td>3578.2700</td>\n",
       "      <td>29255</td>\n",
       "    </tr>\n",
       "    <tr>\n",
       "      <th>2</th>\n",
       "      <td>01-01-21</td>\n",
       "      <td>1</td>\n",
       "      <td>3374.9900</td>\n",
       "      <td>11455</td>\n",
       "    </tr>\n",
       "    <tr>\n",
       "      <th>3</th>\n",
       "      <td>01-01-21</td>\n",
       "      <td>1</td>\n",
       "      <td>699.0982</td>\n",
       "      <td>26782</td>\n",
       "    </tr>\n",
       "    <tr>\n",
       "      <th>4</th>\n",
       "      <td>01-02-21</td>\n",
       "      <td>1</td>\n",
       "      <td>3578.2700</td>\n",
       "      <td>14947</td>\n",
       "    </tr>\n",
       "  </tbody>\n",
       "</table>\n",
       "</div>"
      ],
      "text/plain": [
       "  OrderDate  OrderQuantity      Sales  CustomerKey\n",
       "0  01-01-21              1   699.0982        14657\n",
       "1  01-01-21              1  3578.2700        29255\n",
       "2  01-01-21              1  3374.9900        11455\n",
       "3  01-01-21              1   699.0982        26782\n",
       "4  01-02-21              1  3578.2700        14947"
      ]
     },
     "execution_count": 3,
     "metadata": {},
     "output_type": "execute_result"
    }
   ],
   "source": [
    "# Select relevant columns\n",
    "transactions_df = transactions_df[['OrderDate','OrderQuantity','Sales','CustomerKey']]\n",
    "transactions_df.head()"
   ]
  },
  {
   "cell_type": "code",
   "execution_count": 4,
   "id": "61a54d0f-65d6-47eb-b18d-fcdfca055767",
   "metadata": {},
   "outputs": [],
   "source": [
    "# Convert OrderDate to Datetime format\n",
    "transactions_df['OrderDate'] = pd.to_datetime(transactions_df['OrderDate'])\n",
    "transactions_df['MonthYear'] = transactions_df['OrderDate'].dt.to_period('M')"
   ]
  },
  {
   "cell_type": "code",
   "execution_count": 5,
   "id": "d147fd53-b86b-4718-b413-752cda1ead13",
   "metadata": {},
   "outputs": [
    {
     "data": {
      "text/html": [
       "<div>\n",
       "<style scoped>\n",
       "    .dataframe tbody tr th:only-of-type {\n",
       "        vertical-align: middle;\n",
       "    }\n",
       "\n",
       "    .dataframe tbody tr th {\n",
       "        vertical-align: top;\n",
       "    }\n",
       "\n",
       "    .dataframe thead th {\n",
       "        text-align: right;\n",
       "    }\n",
       "</style>\n",
       "<table border=\"1\" class=\"dataframe\">\n",
       "  <thead>\n",
       "    <tr style=\"text-align: right;\">\n",
       "      <th></th>\n",
       "      <th>MonthYear</th>\n",
       "      <th>NewCustomerCount</th>\n",
       "    </tr>\n",
       "  </thead>\n",
       "  <tbody>\n",
       "    <tr>\n",
       "      <th>0</th>\n",
       "      <td>2021-01</td>\n",
       "      <td>184</td>\n",
       "    </tr>\n",
       "    <tr>\n",
       "      <th>1</th>\n",
       "      <td>2021-02</td>\n",
       "      <td>165</td>\n",
       "    </tr>\n",
       "    <tr>\n",
       "      <th>2</th>\n",
       "      <td>2021-03</td>\n",
       "      <td>198</td>\n",
       "    </tr>\n",
       "    <tr>\n",
       "      <th>3</th>\n",
       "      <td>2021-04</td>\n",
       "      <td>204</td>\n",
       "    </tr>\n",
       "    <tr>\n",
       "      <th>4</th>\n",
       "      <td>2021-05</td>\n",
       "      <td>206</td>\n",
       "    </tr>\n",
       "  </tbody>\n",
       "</table>\n",
       "</div>"
      ],
      "text/plain": [
       "  MonthYear  NewCustomerCount\n",
       "0   2021-01               184\n",
       "1   2021-02               165\n",
       "2   2021-03               198\n",
       "3   2021-04               204\n",
       "4   2021-05               206"
      ]
     },
     "execution_count": 5,
     "metadata": {},
     "output_type": "execute_result"
    }
   ],
   "source": [
    "# Create a copy of the dataframe specifically for customer analysis\n",
    "customers_df = transactions_df[['OrderDate','MonthYear','CustomerKey']].copy()\n",
    "\n",
    "# Find the first purchase date per customer\n",
    "customers_df['FirstPurchaseDate'] = customers_df.groupby('CustomerKey')['OrderDate'].transform('min')\n",
    "\n",
    "# Determine if the purchase is the first purchase\n",
    "customers_df['IsNewCustomer'] = customers_df['OrderDate'] == customers_df['FirstPurchaseDate']\n",
    "\n",
    "# Count the new customers per month\n",
    "new_customers = (\n",
    "    customers_df[customers_df['IsNewCustomer']]\n",
    "    .groupby('MonthYear')\n",
    "    .size()\n",
    "    .reset_index(name='NewCustomerCount')\n",
    ")\n",
    "\n",
    "# Display the dataframe\n",
    "new_customers.head()"
   ]
  },
  {
   "cell_type": "code",
   "execution_count": 6,
   "id": "59d9c94d-0192-4361-a3e3-70740425b501",
   "metadata": {},
   "outputs": [
    {
     "data": {
      "text/html": [
       "<div>\n",
       "<style scoped>\n",
       "    .dataframe tbody tr th:only-of-type {\n",
       "        vertical-align: middle;\n",
       "    }\n",
       "\n",
       "    .dataframe tbody tr th {\n",
       "        vertical-align: top;\n",
       "    }\n",
       "\n",
       "    .dataframe thead th {\n",
       "        text-align: right;\n",
       "    }\n",
       "</style>\n",
       "<table border=\"1\" class=\"dataframe\">\n",
       "  <thead>\n",
       "    <tr style=\"text-align: right;\">\n",
       "      <th></th>\n",
       "      <th>MonthYear</th>\n",
       "      <th>Sales</th>\n",
       "      <th>OrderQuantity</th>\n",
       "    </tr>\n",
       "  </thead>\n",
       "  <tbody>\n",
       "    <tr>\n",
       "      <th>0</th>\n",
       "      <td>2021-01</td>\n",
       "      <td>585312.6486</td>\n",
       "      <td>184</td>\n",
       "    </tr>\n",
       "    <tr>\n",
       "      <th>1</th>\n",
       "      <td>2021-02</td>\n",
       "      <td>532226.2458</td>\n",
       "      <td>165</td>\n",
       "    </tr>\n",
       "    <tr>\n",
       "      <th>2</th>\n",
       "      <td>2021-03</td>\n",
       "      <td>643436.1040</td>\n",
       "      <td>198</td>\n",
       "    </tr>\n",
       "    <tr>\n",
       "      <th>3</th>\n",
       "      <td>2021-04</td>\n",
       "      <td>653364.0368</td>\n",
       "      <td>204</td>\n",
       "    </tr>\n",
       "    <tr>\n",
       "      <th>4</th>\n",
       "      <td>2021-05</td>\n",
       "      <td>659325.8968</td>\n",
       "      <td>206</td>\n",
       "    </tr>\n",
       "  </tbody>\n",
       "</table>\n",
       "</div>"
      ],
      "text/plain": [
       "  MonthYear        Sales  OrderQuantity\n",
       "0   2021-01  585312.6486            184\n",
       "1   2021-02  532226.2458            165\n",
       "2   2021-03  643436.1040            198\n",
       "3   2021-04  653364.0368            204\n",
       "4   2021-05  659325.8968            206"
      ]
     },
     "execution_count": 6,
     "metadata": {},
     "output_type": "execute_result"
    }
   ],
   "source": [
    "# Summarize Sales and Orders by MonthYear\n",
    "summary_df = transactions_df.groupby('MonthYear', as_index=False).agg({'Sales':'sum','OrderQuantity':'sum'})\n",
    "summary_df.head()"
   ]
  },
  {
   "cell_type": "code",
   "execution_count": 7,
   "id": "b4d6785e-5af9-4b3f-89e4-412116827c3d",
   "metadata": {},
   "outputs": [
    {
     "data": {
      "text/html": [
       "<div>\n",
       "<style scoped>\n",
       "    .dataframe tbody tr th:only-of-type {\n",
       "        vertical-align: middle;\n",
       "    }\n",
       "\n",
       "    .dataframe tbody tr th {\n",
       "        vertical-align: top;\n",
       "    }\n",
       "\n",
       "    .dataframe thead th {\n",
       "        text-align: right;\n",
       "    }\n",
       "</style>\n",
       "<table border=\"1\" class=\"dataframe\">\n",
       "  <thead>\n",
       "    <tr style=\"text-align: right;\">\n",
       "      <th></th>\n",
       "      <th>MonthYear</th>\n",
       "      <th>NewCustomerCount</th>\n",
       "      <th>Sales</th>\n",
       "      <th>OrderQuantity</th>\n",
       "    </tr>\n",
       "  </thead>\n",
       "  <tbody>\n",
       "    <tr>\n",
       "      <th>0</th>\n",
       "      <td>2021-01</td>\n",
       "      <td>184</td>\n",
       "      <td>585312.6486</td>\n",
       "      <td>184</td>\n",
       "    </tr>\n",
       "    <tr>\n",
       "      <th>1</th>\n",
       "      <td>2021-02</td>\n",
       "      <td>165</td>\n",
       "      <td>532226.2458</td>\n",
       "      <td>165</td>\n",
       "    </tr>\n",
       "    <tr>\n",
       "      <th>2</th>\n",
       "      <td>2021-03</td>\n",
       "      <td>198</td>\n",
       "      <td>643436.1040</td>\n",
       "      <td>198</td>\n",
       "    </tr>\n",
       "    <tr>\n",
       "      <th>3</th>\n",
       "      <td>2021-04</td>\n",
       "      <td>204</td>\n",
       "      <td>653364.0368</td>\n",
       "      <td>204</td>\n",
       "    </tr>\n",
       "    <tr>\n",
       "      <th>4</th>\n",
       "      <td>2021-05</td>\n",
       "      <td>206</td>\n",
       "      <td>659325.8968</td>\n",
       "      <td>206</td>\n",
       "    </tr>\n",
       "  </tbody>\n",
       "</table>\n",
       "</div>"
      ],
      "text/plain": [
       "  MonthYear  NewCustomerCount        Sales  OrderQuantity\n",
       "0   2021-01               184  585312.6486            184\n",
       "1   2021-02               165  532226.2458            165\n",
       "2   2021-03               198  643436.1040            198\n",
       "3   2021-04               204  653364.0368            204\n",
       "4   2021-05               206  659325.8968            206"
      ]
     },
     "execution_count": 7,
     "metadata": {},
     "output_type": "execute_result"
    }
   ],
   "source": [
    "# Merge new_customers dataframe to summary_df\n",
    "summary_df = pd.merge(new_customers, summary_df, on='MonthYear', how='outer')\n",
    "summary_df.head()"
   ]
  },
  {
   "cell_type": "code",
   "execution_count": 8,
   "id": "8a43cc32-9da3-4509-8b0a-4e9d05b06cff",
   "metadata": {
    "scrolled": true
   },
   "outputs": [
    {
     "data": {
      "image/png": "[encoded data removed]",
      "text/plain": [
       "<Figure size 1500x420 with 1 Axes>"
      ]
     },
     "metadata": {},
     "output_type": "display_data"
    }
   ],
   "source": [
    "# Sort by MonthYear for proper chronological order\n",
    "summary_df['MonthYear'] = summary_df['MonthYear'].dt.to_timestamp()\n",
    "summary_df = summary_df.sort_values('MonthYear')\n",
    "\n",
    "# Create a copy of summary_df to avoid modifying the original data\n",
    "scaled_df = summary_df.copy()\n",
    "\n",
    "# Apply Min-Max Scaling\n",
    "scaler = MinMaxScaler()\n",
    "scaled_df[['OrderQuantity','Sales','NewCustomerCount']] = scaler.fit_transform(\n",
    "    scaled_df[['OrderQuantity','Sales','NewCustomerCount']]\n",
    ")\n",
    "\n",
    "# Plot Multiple Line Chart\n",
    "plt.figure(figsize=(15, 4.2))\n",
    "\n",
    "plt.plot(scaled_df['MonthYear'], scaled_df['OrderQuantity'], label='Order Quantity', marker='o')\n",
    "plt.plot(scaled_df['MonthYear'], scaled_df['Sales'], label='Sales', marker='s')\n",
    "plt.plot(scaled_df['MonthYear'], scaled_df['NewCustomerCount'], label='New Customers', marker='^')\n",
    "\n",
    "# Labels and Title\n",
    "plt.xlabel('Month-Year')\n",
    "plt.ylabel('Scaled Values (0 to 1)')\n",
    "plt.title('Monthly Trends (Scaled): Sales, Orders, and New Customers')\n",
    "plt.legend()\n",
    "plt.xticks(rotation=30)  # Rotate x-axis labels for better readability\n",
    "plt.tight_layout()\n",
    "\n",
    "# Save the plot before showing it\n",
    "plt.savefig(\"monthly_trends.png\", dpi=300, bbox_inches='tight')\n",
    "plt.show()"
   ]
  },
  {
   "cell_type": "markdown",
   "id": "5cb60b17-a5ad-45d0-8eb8-d8309fbd3100",
   "metadata": {},
   "source": [
    "## Sales Forecasting"
   ]
  },
  {
   "cell_type": "markdown",
   "id": "2d3c28d0-d895-42dd-acab-a50e64732d6c",
   "metadata": {},
   "source": [
    "#### Data Preparation"
   ]
  },
  {
   "cell_type": "code",
   "execution_count": 9,
   "id": "5fa395fe-579c-4e37-ad2a-c76c8c379f87",
   "metadata": {},
   "outputs": [
    {
     "name": "stdout",
     "output_type": "stream",
     "text": [
      "Train Set: \n",
      "   MonthYear  NewCustomerCount         Sales  OrderQuantity  Index\n",
      "0 2022-07-01               825  8.093838e+05           1954      0\n",
      "1 2022-08-01              2916  7.793108e+05           5958      1\n",
      "2 2022-09-01              2701  9.283151e+05           5970      2\n",
      "3 2022-10-01              2802  1.004222e+06           6387      3\n",
      "4 2022-11-01              2618  1.109128e+06           6332      4\n",
      "5 2022-12-01              3070  1.604596e+06           7923      5\n",
      "6 2023-01-01              2623  1.274379e+06           7020      6\n",
      "7 2023-02-01              2494  1.339241e+06           6828      7\n",
      "Test Set: \n",
      "   MonthYear  NewCustomerCount         Sales  OrderQuantity  Index\n",
      "0 2023-03-01              2698  1.448596e+06           7327      0\n",
      "1 2023-04-01              2775  1.527814e+06           7680      1\n",
      "2 2023-05-01              3064  1.768433e+06           8199      2\n",
      "3 2023-06-01              3094  1.826987e+06           8260      3\n"
     ]
    }
   ],
   "source": [
    "# Select only the relevant data that shows a clear trend\n",
    "sales_df = summary_df[summary_df['MonthYear'] >= '2022-07']\n",
    "\n",
    "# Split data into training (70%) and testing (30%) sets\n",
    "split_index = int(len(sales_df) * 0.7)\n",
    "training_set, testing_set = (\n",
    "    sales_df[:split_index].reset_index(drop=True),\n",
    "    sales_df[split_index:].reset_index(drop=True)\n",
    ")\n",
    "\n",
    "# Add index columns for model fitting\n",
    "training_set['Index'] = training_set.index\n",
    "testing_set['Index'] = testing_set.index\n",
    "\n",
    "# Display the splits\n",
    "print(f\"Train Set: \\n{training_set}\")\n",
    "print(f\"Test Set: \\n{testing_set}\")"
   ]
  },
  {
   "cell_type": "markdown",
   "id": "5b2f25d5-a073-4a2c-979e-aa35d5889179",
   "metadata": {},
   "source": [
    "#### Holt-Winters Forecasting Model"
   ]
  },
  {
   "cell_type": "code",
   "execution_count": 10,
   "id": "26faf9ec-8f2f-42e1-be7d-721715b1f38f",
   "metadata": {},
   "outputs": [
    {
     "name": "stdout",
     "output_type": "stream",
     "text": [
      "Initial level (Intercept): 759484.9108249999\n",
      "Initial Trend (Slope): 99024.90408571431 \n"
     ]
    }
   ],
   "source": [
    "# Fit a linear regression model to estimate initial level and trend\n",
    "x = training_set['Index'].values.reshape(-1, 1)\n",
    "y = training_set['Sales'].values\n",
    "model_lr = LinearRegression().fit(x, y)\n",
    "\n",
    "# Extract initial level and trend from the regression\n",
    "initial_level = model_lr.intercept_\n",
    "initial_trend = model_lr.coef_[0]\n",
    "\n",
    "# Print the initial level and trend\n",
    "print(f\"Initial level (Intercept): {initial_level}\")\n",
    "print(f\"Initial Trend (Slope): {initial_trend} \")"
   ]
  },
  {
   "cell_type": "code",
   "execution_count": 11,
   "id": "b8bca2fd-d049-4240-b7bc-6b1d69f00ba0",
   "metadata": {},
   "outputs": [],
   "source": [
    "# Define a function to calculate Mean Squared Error (MSE) for given alpha and beta\n",
    "def calculate_mse(alpha, beta):\n",
    "    model = Holt(\n",
    "        training_set['Sales'], initialization_method='known',\n",
    "        initial_level=initial_level, initial_trend=initial_trend\n",
    "    ).fit(smoothing_level=alpha, smoothing_trend=beta, optimized=False)\n",
    "    forecast_values = model.forecast(len(testing_set)).reset_index(drop=True)\n",
    "    mse = ((testing_set['Sales'] - forecast_values) ** 2).mean()\n",
    "    return mse"
   ]
  },
  {
   "cell_type": "code",
   "execution_count": 12,
   "id": "25d28e44-1963-4924-9dd1-36ef0d8ec74d",
   "metadata": {},
   "outputs": [
    {
     "name": "stdout",
     "output_type": "stream",
     "text": [
      "Optimal Alpha: 0.12398379468177338\n",
      "Optimal Beta: 1.0 \n"
     ]
    }
   ],
   "source": [
    "# Use Bayesian Optimization to find the optimal values for alpha and beta\n",
    "def objective(params):\n",
    "    alpha, beta = params\n",
    "    return calculate_mse(alpha, beta)\n",
    "\n",
    "result = minimize(objective, x0=[0.5, 0.5], bounds=[(0.01, 1), (0.01, 1)])\n",
    "optimal_alpha, optimal_beta = result.x\n",
    "\n",
    "# Print the initial level and trend\n",
    "print(f\"Optimal Alpha: {optimal_alpha}\")\n",
    "print(f\"Optimal Beta: {optimal_beta} \")"
   ]
  },
  {
   "cell_type": "code",
   "execution_count": 13,
   "id": "32bfd140-5bf5-4a56-ab37-a67c7c3dade8",
   "metadata": {},
   "outputs": [
    {
     "name": "stdout",
     "output_type": "stream",
     "text": [
      "Forecasted Sales: 1874409.90\n"
     ]
    }
   ],
   "source": [
    "# Fit the Holt’s Linear Trend model on the entire relevant dataset\n",
    "model = Holt(\n",
    "    sales_df['Sales'], initialization_method='known',\n",
    "    initial_level=initial_level, initial_trend=initial_trend\n",
    ").fit(smoothing_level=optimal_alpha, smoothing_trend=optimal_beta, optimized=False)\n",
    "\n",
    "# Forecast the next month's sales\n",
    "forecast = model.forecast(1)\n",
    "print(f\"Forecasted Sales: {forecast.iloc[0]:.2f}\")"
   ]
  },
  {
   "cell_type": "markdown",
   "id": "1ee28324-1cb2-4b85-a8b6-c78cd575883f",
   "metadata": {},
   "source": [
    "#### Data Visualization"
   ]
  },
  {
   "cell_type": "code",
   "execution_count": 14,
   "id": "dccfd308-fa61-40ab-a77d-1a34f86d3f64",
   "metadata": {},
   "outputs": [
    {
     "data": {
      "image/png": "[encoded data removed]",
      "text/plain": [
       "<Figure size 1000x250 with 1 Axes>"
      ]
     },
     "metadata": {},
     "output_type": "display_data"
    }
   ],
   "source": [
    "# Prepare data for visualization\n",
    "sales, month = summary_df['Sales'], summary_df['MonthYear']\n",
    "\n",
    "# Plot forecasted sales with historical data\n",
    "plt.figure(figsize=(10, 2.5))\n",
    "forecast_x = len(sales) + len(forecast) - 1\n",
    "\n",
    "# Plot forecasted sales\n",
    "plt.plot(\n",
    "    range(len(sales) - 1, len(sales) + len(forecast)),\n",
    "    [sales.iloc[-1]] + list(forecast),\n",
    "    label='Forecast',\n",
    "    color='#95190c',\n",
    "    linestyle='--',\n",
    "    marker='o'\n",
    ")\n",
    "\n",
    "# Plot historical sales\n",
    "plt.plot(range(len(sales)), sales, color='green', marker='o')\n",
    "\n",
    "# Customize x-axis labels to show every third month\n",
    "x_labels = list(month.dt.strftime('%b-%Y')) + [(month.iloc[-1] + pd.DateOffset(months=1)).strftime('%b-%Y')]\n",
    "xticks = range(0, len(x_labels), 3)\n",
    "x_labels_filtered = [x_labels[i] for i in xticks]\n",
    "plt.xticks(ticks=xticks, labels=x_labels_filtered)\n",
    "\n",
    "# Add a custom annotation to the forecasted point and display additional details in the upper-left corner.\n",
    "forecast_million = forecast.iloc[0] / 1_000_000\n",
    "current_sales = sales.iloc[-1]/1_000_000\n",
    "forecast_sales = forecast.iloc[0]/1_000_000\n",
    "forecast_growth = 100*(forecast_sales - current_sales)/current_sales\n",
    "\n",
    "plt.text(\n",
    "    forecast_x + 0.5, forecast.iloc[0], f'${forecast_million:,.2f}M',\n",
    "    color='black', fontsize=11, fontweight='bold', ha='left', va='center_baseline'\n",
    ")\n",
    "\n",
    "plt.text(\n",
    "\t0.00, 1.00, f\"Current Sales: ${current_sales:.2f}M\\nForecasted Sales: ${forecast_sales:.2f}M\\nForecasted Growth: {forecast_growth:.2f}%\",\n",
    "\ttransform=plt.gca().transAxes, ha='left', va='top', fontsize=12, color='black'\n",
    ")\n",
    "\n",
    "# Remove y-axis labels and most borders\n",
    "plt.yticks([])\n",
    "ax = plt.gca()\n",
    "for spine in ax.spines.values():\n",
    "    spine.set_visible(False)\n",
    "ax.spines['bottom'].set_visible(True)\n",
    "\n",
    "\n",
    "# Finalize plot layout and show\n",
    "plt.tight_layout()\n",
    "plt.show()"
   ]
  },
  {
   "cell_type": "markdown",
   "id": "8f97b756-5771-4162-bc9a-51bb346b25ed",
   "metadata": {},
   "source": [
    "## Demand Forecasting"
   ]
  },
  {
   "cell_type": "markdown",
   "id": "dcab13bd-45e9-42ca-868b-323f2ffb832f",
   "metadata": {},
   "source": [
    "#### Data Preparation"
   ]
  },
  {
   "cell_type": "code",
   "execution_count": 15,
   "id": "24e12d71-0e3b-48ad-8a5f-3aa1b191e21d",
   "metadata": {},
   "outputs": [
    {
     "name": "stdout",
     "output_type": "stream",
     "text": [
      "Train Set: \n",
      "   MonthYear  NewCustomerCount         Sales  OrderQuantity  Index\n",
      "0 2022-07-01               825  8.093838e+05           1954      0\n",
      "1 2022-08-01              2916  7.793108e+05           5958      1\n",
      "2 2022-09-01              2701  9.283151e+05           5970      2\n",
      "3 2022-10-01              2802  1.004222e+06           6387      3\n",
      "4 2022-11-01              2618  1.109128e+06           6332      4\n",
      "5 2022-12-01              3070  1.604596e+06           7923      5\n",
      "6 2023-01-01              2623  1.274379e+06           7020      6\n",
      "7 2023-02-01              2494  1.339241e+06           6828      7\n",
      "Test Set: \n",
      "   MonthYear  NewCustomerCount         Sales  OrderQuantity  Index\n",
      "0 2023-03-01              2698  1.448596e+06           7327      0\n",
      "1 2023-04-01              2775  1.527814e+06           7680      1\n",
      "2 2023-05-01              3064  1.768433e+06           8199      2\n",
      "3 2023-06-01              3094  1.826987e+06           8260      3\n"
     ]
    }
   ],
   "source": [
    "# Select only the relevant data that shows a clear trend\n",
    "demands_df = summary_df[summary_df['MonthYear'] >= '2022-07']\n",
    "\n",
    "# Split data into training (70%) and testing (30%) sets\n",
    "split_index = int(len(demands_df) * 0.7)\n",
    "training_set, testing_set = (\n",
    "    demands_df[:split_index].reset_index(drop=True),\n",
    "    demands_df[split_index:].reset_index(drop=True)\n",
    ")\n",
    "\n",
    "# Add index columns for model fitting\n",
    "training_set['Index'] = training_set.index\n",
    "testing_set['Index'] = testing_set.index\n",
    "\n",
    "# Fit a linear regression model to estimate initial level and trend\n",
    "x = training_set['Index'].values.reshape(-1, 1)\n",
    "y = training_set['OrderQuantity'].values\n",
    "model_lr = LinearRegression().fit(x, y)\n",
    "\n",
    "# Display the splits\n",
    "print(f\"Train Set: \\n{training_set}\")\n",
    "print(f\"Test Set: \\n{testing_set}\")"
   ]
  },
  {
   "cell_type": "code",
   "execution_count": 16,
   "id": "82d348b2-2b69-4637-93f4-4dd24999f7e5",
   "metadata": {},
   "outputs": [
    {
     "name": "stdout",
     "output_type": "stream",
     "text": [
      "Initial level (Intercept): 4161.833333333333\n",
      "Initial Trend (Slope): 538.4761904761905 \n"
     ]
    }
   ],
   "source": [
    "# Fit a linear regression model to estimate initial level and trend\n",
    "x = training_set['Index'].values.reshape(-1, 1)\n",
    "y = training_set['OrderQuantity'].values\n",
    "model_lr = LinearRegression().fit(x, y)\n",
    "\n",
    "# Extract initial level and trend from the regression\n",
    "initial_level = model_lr.intercept_\n",
    "initial_trend = model_lr.coef_[0]\n",
    "\n",
    "# Print the initial level and trend\n",
    "print(f\"Initial level (Intercept): {initial_level}\")\n",
    "print(f\"Initial Trend (Slope): {initial_trend} \")"
   ]
  },
  {
   "cell_type": "code",
   "execution_count": 17,
   "id": "3ea7fecb-19bc-4f32-8d09-41785cf5bacc",
   "metadata": {},
   "outputs": [],
   "source": [
    "# Define a function to calculate Mean Squared Error (MSE) for given alpha and beta\n",
    "def calculate_mse(alpha, beta):\n",
    "    model = Holt(\n",
    "        training_set['OrderQuantity'], initialization_method='known',\n",
    "        initial_level=initial_level, initial_trend=initial_trend\n",
    "    ).fit(smoothing_level=alpha, smoothing_trend=beta, optimized=False)\n",
    "    forecast_values = model.forecast(len(testing_set)).reset_index(drop=True)\n",
    "    mse = ((testing_set['OrderQuantity'] - forecast_values) ** 2).mean()\n",
    "    return mse"
   ]
  },
  {
   "cell_type": "code",
   "execution_count": 18,
   "id": "ca9d9fcb-a40e-45f5-94bd-5204068c2774",
   "metadata": {},
   "outputs": [
    {
     "name": "stdout",
     "output_type": "stream",
     "text": [
      "Optimal Alpha: 0.7775906526047385\n",
      "Optimal Beta: 0.16715206809249214 \n"
     ]
    }
   ],
   "source": [
    "# Use Bayesian Optimization to find the optimal values for alpha and beta\n",
    "def objective(params):\n",
    "    alpha, beta = params\n",
    "    return calculate_mse(alpha, beta)\n",
    "\n",
    "result = minimize(objective, x0=[0.5, 0.5], bounds=[(0.01, 1), (0.01, 1)])\n",
    "optimal_alpha, optimal_beta = result.x\n",
    "\n",
    "# Print the initial level and trend\n",
    "print(f\"Optimal Alpha: {optimal_alpha}\")\n",
    "print(f\"Optimal Beta: {optimal_beta} \")"
   ]
  },
  {
   "cell_type": "code",
   "execution_count": 19,
   "id": "7a0d0b02-b9af-4b01-9e14-94c7b75aa4a8",
   "metadata": {},
   "outputs": [
    {
     "name": "stdout",
     "output_type": "stream",
     "text": [
      "Forecasted Demands: 8636.94\n"
     ]
    }
   ],
   "source": [
    "# Fit the Holt’s Linear Trend model on the entire relevant dataset\n",
    "model = Holt(\n",
    "    demands_df['OrderQuantity'], initialization_method='known',\n",
    "    initial_level=initial_level, initial_trend=initial_trend\n",
    ").fit(smoothing_level=optimal_alpha, smoothing_trend=optimal_beta, optimized=False)\n",
    "\n",
    "# Forecast the next month's sales\n",
    "forecast = model.forecast(1)\n",
    "print(f\"Forecasted Demands: {forecast.iloc[0]:.2f}\")"
   ]
  },
  {
   "cell_type": "markdown",
   "id": "ef8fe4be-d5b4-4aa5-8fa9-7184b37dd2c2",
   "metadata": {},
   "source": [
    "#### Data Visualization"
   ]
  },
  {
   "cell_type": "code",
   "execution_count": 20,
   "id": "8fc787fc-bf4d-47d2-8a54-47ad5d73beee",
   "metadata": {},
   "outputs": [
    {
     "data": {
      "image/png": "[encoded data removed]",
      "text/plain": [
       "<Figure size 1000x250 with 1 Axes>"
      ]
     },
     "metadata": {},
     "output_type": "display_data"
    }
   ],
   "source": [
    "# Prepare data for visualization\n",
    "demands, month = summary_df['OrderQuantity'], summary_df['MonthYear']\n",
    "\n",
    "# Plot forecasted demand with historical data\n",
    "plt.figure(figsize=(10, 2.5))\n",
    "forecast_x = len(demands) + len(forecast) - 1\n",
    "\n",
    "# Plot the forecasted demand\n",
    "plt.plot(\n",
    "    range(len(demands) - 1, len(demands) + len(forecast)),\n",
    "    [demands.iloc[-1]] + list(forecast),\n",
    "    label='Forecast',\n",
    "    color='#95190c',\n",
    "    linestyle='--',\n",
    "    marker='o'\n",
    ")\n",
    "\n",
    "# Plot historical demand\n",
    "plt.plot(range(len(demands)), demands, color='green', marker='o')\n",
    "\n",
    "# Customize x-axis labels to show every third month\n",
    "x_labels = list(month.dt.strftime('%b-%Y')) + [(month.iloc[-1] + pd.DateOffset(months=1)).strftime('%b-%Y')]\n",
    "xticks = range(0, len(x_labels), 3)\n",
    "x_labels_filtered = [x_labels[i] for i in xticks]\n",
    "plt.xticks(ticks=xticks, labels=x_labels_filtered)\n",
    "\n",
    "# Add a custom annotation to the forecasted point and display additional details in the upper-left corner.\n",
    "forecast_thousand = forecast.iloc[0] / 1000\n",
    "current_demand = demands.iloc[-1]\n",
    "forecast_demand = forecast.iloc[0]\n",
    "\n",
    "# Create a Dataframe for Error Analysis\n",
    "result_df = pd.DataFrame({\n",
    "    'OrderQuantity': demands_df['OrderQuantity'],\n",
    "    'FittedValues': model.fittedvalues,\n",
    "    'RMSE': np.sqrt((demands_df['OrderQuantity'] - model.fittedvalues) ** 2)\n",
    "})\n",
    "\n",
    "# Smooth RMSE Using Simple Exponential Smoothing\n",
    "omega = optimal_alpha\n",
    "error_model = SimpleExpSmoothing(result_df['RMSE'].to_numpy()).fit(smoothing_level=omega, optimized=False)\n",
    "smoothed_rmse = error_model.fittedvalues\n",
    "\n",
    "# Calculate safety stock using Simple Exponential Smoothing\n",
    "z_value, length = 1.85, 1\n",
    "safety_stock = int(smoothed_rmse[-1] * z_value * np.sqrt(length))\n",
    "replenishment_level = safety_stock + forecast_demand\n",
    "\n",
    "plt.text(\n",
    "    forecast_x + 0.5, forecast.iloc[0], f'{forecast_thousand:.2f}K',\n",
    "    color='black', fontsize=11, fontweight='bold', ha='left', va='center_baseline'\n",
    ")\n",
    "\n",
    "plt.text(\n",
    "\t0.00, 1.00, f\"Current Demand: {current_demand} units\\nForecasted Demand: {forecast_demand:.0f} units\\nReplenishment Level: {replenishment_level:.0f} units\",\n",
    "\ttransform=plt.gca().transAxes, ha='left', va='top', fontsize=12, color='black'\n",
    ")\n",
    "\n",
    "# Remove y-axis labels and most borders\n",
    "plt.yticks([])\n",
    "ax = plt.gca()\n",
    "for spine in ax.spines.values():\n",
    "    spine.set_visible(False)\n",
    "ax.spines['bottom'].set_visible(True)\n",
    "\n",
    "# Finalize plot layout and show\n",
    "plt.tight_layout()\n",
    "plt.show()\n"
   ]
  },
  {
   "cell_type": "markdown",
   "id": "def13c5e-1d96-45d5-bb89-3a96a8963137",
   "metadata": {},
   "source": [
    "## Customer Acquisition Forecasting"
   ]
  },
  {
   "cell_type": "markdown",
   "id": "54a3b534-065c-466a-84c0-b5506f919468",
   "metadata": {},
   "source": [
    "#### Data Preparation"
   ]
  },
  {
   "cell_type": "code",
   "execution_count": 21,
   "id": "9f991268-c9d0-4a60-859c-f70d9edaae35",
   "metadata": {},
   "outputs": [
    {
     "name": "stdout",
     "output_type": "stream",
     "text": [
      "Train Set: \n",
      "  MonthYear  NewCustomerCount  Index\n",
      "0   2022-07               825      0\n",
      "1   2022-08              2916      1\n",
      "2   2022-09              2701      2\n",
      "3   2022-10              2802      3\n",
      "4   2022-11              2618      4\n",
      "5   2022-12              3070      5\n",
      "6   2023-01              2623      6\n",
      "7   2023-02              2494      7\n",
      "Test Set: \n",
      "  MonthYear  NewCustomerCount  Index\n",
      "0   2023-03              2698      0\n",
      "1   2023-04              2775      1\n",
      "2   2023-05              3064      2\n",
      "3   2023-06              3094      3\n"
     ]
    }
   ],
   "source": [
    "# Select only the relevant data that shows a clear trend\n",
    "new_customers_df = new_customers[new_customers['MonthYear'] >= '2022-07']\n",
    "\n",
    "# Split data into training (70%) and testing (30%) sets\n",
    "split_index = int(len(new_customers_df)*0.7)\n",
    "training_set, testing_set = (\n",
    "    new_customers_df[:split_index].reset_index(drop=True),\n",
    "    new_customers_df[split_index:].reset_index(drop=True)\n",
    ")\n",
    "\n",
    "# Add index columns for model fitting\n",
    "training_set['Index'] = training_set.index\n",
    "testing_set['Index'] = testing_set.index\n",
    "\n",
    "# Display the splits\n",
    "print(f\"Train Set: \\n{training_set}\")\n",
    "print(f\"Test Set: \\n{testing_set}\")"
   ]
  },
  {
   "cell_type": "code",
   "execution_count": 22,
   "id": "c22463bc-6f53-4eae-94f1-b336644039dc",
   "metadata": {},
   "outputs": [
    {
     "name": "stdout",
     "output_type": "stream",
     "text": [
      "Initial level (Intercept): 2041.916666666666\n",
      "Initial Trend (Slope): 132.63095238095252 \n"
     ]
    }
   ],
   "source": [
    "# Fit a linear regression model to estimate initial level and trend\n",
    "x = training_set['Index'].values.reshape(-1,1)\n",
    "y = training_set['NewCustomerCount'].values\n",
    "model_lr = LinearRegression().fit(x,y)\n",
    "\n",
    "# Extract initial level and trend from the regression\n",
    "initial_level = model_lr.intercept_\n",
    "initial_trend = model_lr.coef_[0]\n",
    "\n",
    "# Print the initial level and trend\n",
    "print(f\"Initial level (Intercept): {initial_level}\")\n",
    "print(f\"Initial Trend (Slope): {initial_trend} \")"
   ]
  },
  {
   "cell_type": "code",
   "execution_count": 23,
   "id": "55ccf446-51f2-4420-b18e-4555ba18c202",
   "metadata": {},
   "outputs": [],
   "source": [
    "# Define a function to calculate Mean Squared Error (MSE) for given alpha and beta\n",
    "def calculate_mse(alpha, beta):\n",
    "    model = Holt(\n",
    "        training_set['NewCustomerCount'], initialization_method='known',\n",
    "        initial_level=initial_level, initial_trend=initial_trend\n",
    "    ).fit(smoothing_level=alpha, smoothing_trend=beta, optimized=False)\n",
    "    forecast_values = model.forecast(len(testing_set)).reset_index(drop=True)\n",
    "    mse = ((testing_set['NewCustomerCount'] - forecast_values) ** 2).mean()\n",
    "    return mse"
   ]
  },
  {
   "cell_type": "code",
   "execution_count": 24,
   "id": "dff37b21-579d-44c8-abe0-09856906e09a",
   "metadata": {},
   "outputs": [
    {
     "name": "stdout",
     "output_type": "stream",
     "text": [
      "Optimal Alpha: 0.7545272301883411\n",
      "Optimal Beta: 0.01 \n"
     ]
    }
   ],
   "source": [
    "# Use Bayesian Optimization to find the optimal values for alpha and beta\n",
    "def objective(params):\n",
    "    alpha, beta = params\n",
    "    return calculate_mse(alpha, beta)\n",
    "\n",
    "result = minimize(objective, x0=[0.5, 0.5], bounds=[(0.01, 1), (0.01, 1)])\n",
    "optimal_alpha, optimal_beta = result.x\n",
    "\n",
    "# Print the initial level and trend\n",
    "print(f\"Optimal Alpha: {optimal_alpha}\")\n",
    "print(f\"Optimal Beta: {optimal_beta} \")"
   ]
  },
  {
   "cell_type": "code",
   "execution_count": 25,
   "id": "a9c87671-1292-4303-97a1-796a257c0cd8",
   "metadata": {},
   "outputs": [
    {
     "name": "stdout",
     "output_type": "stream",
     "text": [
      "Forecasted New Customers: 3236\n"
     ]
    }
   ],
   "source": [
    "# Fit the Holt’s Linear Trend model on the entire relevant dataset\n",
    "model = Holt(\n",
    "    new_customers_df['NewCustomerCount'], initialization_method='known',\n",
    "    initial_level=initial_level, initial_trend=initial_trend\n",
    ").fit(smoothing_level=optimal_alpha, smoothing_trend=optimal_beta, optimized=False)\n",
    "\n",
    "# Forecast the next month's sales\n",
    "forecast = model.forecast(1)\n",
    "print(f\"Forecasted New Customers: {int(forecast.iloc[0])}\")"
   ]
  },
  {
   "cell_type": "markdown",
   "id": "3c1868ac-6a17-45a0-94bc-ef995f581156",
   "metadata": {},
   "source": [
    "#### Data Visualization"
   ]
  },
  {
   "cell_type": "code",
   "execution_count": 26,
   "id": "02050119-c9d8-4766-b12d-ad27122b3488",
   "metadata": {},
   "outputs": [
    {
     "data": {
      "text/html": [
       "<div>\n",
       "<style scoped>\n",
       "    .dataframe tbody tr th:only-of-type {\n",
       "        vertical-align: middle;\n",
       "    }\n",
       "\n",
       "    .dataframe tbody tr th {\n",
       "        vertical-align: top;\n",
       "    }\n",
       "\n",
       "    .dataframe thead th {\n",
       "        text-align: right;\n",
       "    }\n",
       "</style>\n",
       "<table border=\"1\" class=\"dataframe\">\n",
       "  <thead>\n",
       "    <tr style=\"text-align: right;\">\n",
       "      <th></th>\n",
       "      <th>OrderDate</th>\n",
       "      <th>MonthYear</th>\n",
       "      <th>CustomerKey</th>\n",
       "      <th>FirstPurchaseDate</th>\n",
       "      <th>IsNewCustomer</th>\n",
       "    </tr>\n",
       "  </thead>\n",
       "  <tbody>\n",
       "    <tr>\n",
       "      <th>0</th>\n",
       "      <td>2021-01-01</td>\n",
       "      <td>2021-01</td>\n",
       "      <td>14657</td>\n",
       "      <td>2021-01-01</td>\n",
       "      <td>True</td>\n",
       "    </tr>\n",
       "    <tr>\n",
       "      <th>1</th>\n",
       "      <td>2021-01-01</td>\n",
       "      <td>2021-01</td>\n",
       "      <td>29255</td>\n",
       "      <td>2021-01-01</td>\n",
       "      <td>True</td>\n",
       "    </tr>\n",
       "    <tr>\n",
       "      <th>2</th>\n",
       "      <td>2021-01-01</td>\n",
       "      <td>2021-01</td>\n",
       "      <td>11455</td>\n",
       "      <td>2021-01-01</td>\n",
       "      <td>True</td>\n",
       "    </tr>\n",
       "    <tr>\n",
       "      <th>3</th>\n",
       "      <td>2021-01-01</td>\n",
       "      <td>2021-01</td>\n",
       "      <td>26782</td>\n",
       "      <td>2021-01-01</td>\n",
       "      <td>True</td>\n",
       "    </tr>\n",
       "    <tr>\n",
       "      <th>4</th>\n",
       "      <td>2021-01-02</td>\n",
       "      <td>2021-01</td>\n",
       "      <td>14947</td>\n",
       "      <td>2021-01-02</td>\n",
       "      <td>True</td>\n",
       "    </tr>\n",
       "  </tbody>\n",
       "</table>\n",
       "</div>"
      ],
      "text/plain": [
       "   OrderDate MonthYear  CustomerKey FirstPurchaseDate  IsNewCustomer\n",
       "0 2021-01-01   2021-01        14657        2021-01-01           True\n",
       "1 2021-01-01   2021-01        29255        2021-01-01           True\n",
       "2 2021-01-01   2021-01        11455        2021-01-01           True\n",
       "3 2021-01-01   2021-01        26782        2021-01-01           True\n",
       "4 2021-01-02   2021-01        14947        2021-01-02           True"
      ]
     },
     "execution_count": 26,
     "metadata": {},
     "output_type": "execute_result"
    }
   ],
   "source": [
    "customers_df.head()"
   ]
  },
  {
   "cell_type": "code",
   "execution_count": 27,
   "id": "10215d15-d4c6-4115-8d5e-1613e7c593d7",
   "metadata": {},
   "outputs": [
    {
     "data": {
      "image/png": "[encoded data removed]",
      "text/plain": [
       "<Figure size 1000x250 with 1 Axes>"
      ]
     },
     "metadata": {},
     "output_type": "display_data"
    }
   ],
   "source": [
    "# Prepare the data for visualization\n",
    "customer_count, month = summary_df['NewCustomerCount'], summary_df['MonthYear']\n",
    "\n",
    "# Get customer counts\n",
    "\n",
    "\n",
    "# Plot forecasted new customers with historical data\n",
    "plt.figure(figsize=(10, 2.5))\n",
    "forecast_x = len(customer_count) + len(forecast) - 1\n",
    "\n",
    "# Plot forecasted new customer\n",
    "plt.plot(\n",
    "    range(len(customer_count) - 1, len(customer_count) + len(forecast)),\n",
    "    [customer_count.iloc[-1]] + list(forecast),\n",
    "    label='Forecast',\n",
    "    color='#95190c',\n",
    "    linestyle='--',\n",
    "    marker='o'\n",
    ")\n",
    "\n",
    "# Plot the historical customer counts\n",
    "plt.plot(range(len(customer_count)), customer_count, color='green', marker='o')\n",
    "\n",
    "# Customize the x-axis label to everyt third month\n",
    "x_labels = list(month.dt.strftime('%b-%Y')) + [(month.iloc[-1] + pd.DateOffset(months=1)).strftime('%b-%Y')]\n",
    "xticks = range(0, len(x_labels), 3)\n",
    "x_labels_filtered = [x_labels[i] for i in xticks]\n",
    "plt.xticks(ticks=xticks, labels=x_labels_filtered)\n",
    "\n",
    "# Add a custom annotation to the forecasted point and display additional details in the upper-left corner.\n",
    "new_customers_count = customer_count.iloc[-1]\n",
    "repeating_customers_count = customers_df.loc[~customers_df['IsNewCustomer'], 'CustomerKey'].nunique()\n",
    "forecasted_customers_count = round(forecast.iloc[0])\n",
    "\n",
    "plt.text(\n",
    "    forecast_x + 0.5, forecast.iloc[0], f'{forecast.iloc[0]:,.0f}',\n",
    "    color='black', fontsize=11, fontweight='bold', ha='left', va='center_baseline'\n",
    ")\n",
    "\n",
    "plt.text(\n",
    "    0.00, 1.00, f'First-Time Customers: {new_customers_count} customers\\nForecasted New Customers: {forecasted_customers_count} customers\\nRepeating Customers: {repeating_customers_count} customers',\n",
    "    transform=plt.gca().transAxes, ha='left', va='top', fontsize=12, color='black'\n",
    "    )\n",
    "\n",
    "# Remove y-axis labels and most borders\n",
    "plt.yticks([])\n",
    "ax = plt.gca()\n",
    "for spine in ax.spines.values():\n",
    "    spine.set_visible(False)\n",
    "ax.spines['bottom'].set_visible(True)\n",
    "\n",
    "plt.tight_layout()\n",
    "plt.show()"
   ]
  },
  {
   "cell_type": "code",
   "execution_count": null,
   "id": "cc81496c-44b6-486d-96df-4581caba9379",
   "metadata": {},
   "outputs": [],
   "source": []
  }
 ],
 "metadata": {
  "kernelspec": {
   "display_name": "Python 3 (ipykernel)",
   "language": "python",
   "name": "python3"
  },
  "language_info": {
   "codemirror_mode": {
    "name": "ipython",
    "version": 3
   },
   "file_extension": ".py",
   "mimetype": "text/x-python",
   "name": "python",
   "nbconvert_exporter": "python",
   "pygments_lexer": "ipython3",
   "version": "3.11.8"
  }
 },
 "nbformat": 4,
 "nbformat_minor": 5
}
